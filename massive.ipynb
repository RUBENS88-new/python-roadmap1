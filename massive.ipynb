{
  "nbformat": 4,
  "nbformat_minor": 0,
  "metadata": {
    "colab": {
      "provenance": [],
      "authorship_tag": "ABX9TyPTY9Zd+4CkYINsR5XWbCLs",
      "include_colab_link": true
    },
    "kernelspec": {
      "name": "python3",
      "display_name": "Python 3"
    },
    "language_info": {
      "name": "python"
    }
  },
  "cells": [
    {
      "cell_type": "markdown",
      "metadata": {
        "id": "view-in-github",
        "colab_type": "text"
      },
      "source": [
        "<a href=\"https://colab.research.google.com/github/RUBENS88-new/python-roadmap1/blob/main/massive.ipynb\" target=\"_parent\"><img src=\"https://colab.research.google.com/assets/colab-badge.svg\" alt=\"Open In Colab\"/></a>"
      ]
    },
    {
      "cell_type": "code",
      "execution_count": null,
      "metadata": {
        "colab": {
          "base_uri": "https://localhost:8080/"
        },
        "id": "08w7uAljWMcI",
        "outputId": "eb27befa-d863-46e1-c5d1-29517ecfb263"
      },
      "outputs": [
        {
          "output_type": "stream",
          "name": "stdout",
          "text": [
            "5\n",
            "8\n",
            "14\n",
            "22\n",
            "конец\n"
          ]
        }
      ],
      "source": [
        "massiv=[1,5,8,14,22]\n",
        "#for i in massiv:\n",
        "    #print(i)\n",
        "    #if i==8:\n",
        "        #break\n",
        "\n",
        "x=0\n",
        "while x<10:\n",
        "    x += 1\n",
        "    print(massiv[x])\n",
        "    if massiv[x]==massiv[-1]:\n",
        "        print('конец')\n",
        "        break"
      ]
    }
  ]
}